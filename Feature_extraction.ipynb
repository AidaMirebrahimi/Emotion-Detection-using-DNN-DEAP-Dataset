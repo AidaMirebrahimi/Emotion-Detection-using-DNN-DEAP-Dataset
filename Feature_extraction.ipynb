{
  "nbformat": 4,
  "nbformat_minor": 0,
  "metadata": {
    "colab": {
      "name": "Feature_extraction.ipynb",
      "provenance": [],
      "collapsed_sections": []
    },
    "kernelspec": {
      "name": "python3",
      "display_name": "Python 3"
    },
    "accelerator": "TPU"
  },
  "cells": [
    {
      "cell_type": "code",
      "metadata": {
        "id": "6wJZgJ5IKQzI",
        "colab_type": "code",
        "colab": {
          "base_uri": "https://localhost:8080/",
          "height": 136
        },
        "outputId": "a8d769d7-f4a3-4618-9600-5863349ee5fd"
      },
      "source": [
        ""
      ],
      "execution_count": null,
      "outputs": [
        {
          "output_type": "stream",
          "text": [
            "Collecting mne\n",
            "\u001b[?25l  Downloading https://files.pythonhosted.org/packages/92/ab/9b79f927b599da515335afb4b666a7bb336930a6d8345e7b483a9980a9c1/mne-0.20.7-py3-none-any.whl (6.6MB)\n",
            "\u001b[K     |████████████████████████████████| 6.6MB 3.1MB/s \n",
            "\u001b[?25hRequirement already satisfied: scipy>=0.17.1 in /usr/local/lib/python3.6/dist-packages (from mne) (1.4.1)\n",
            "Requirement already satisfied: numpy>=1.11.3 in /usr/local/lib/python3.6/dist-packages (from mne) (1.18.5)\n",
            "Installing collected packages: mne\n",
            "Successfully installed mne-0.20.7\n"
          ],
          "name": "stdout"
        }
      ]
    },
    {
      "cell_type": "code",
      "metadata": {
        "id": "m5yGb9_51MQT",
        "colab_type": "code",
        "colab": {
          "base_uri": "https://localhost:8080/",
          "height": 122
        },
        "outputId": "eeeb1c66-6084-42f1-e331-0931b5e26042"
      },
      "source": [
        "import matplotlib.pyplot as plt\n",
        "import numpy as np\n",
        "import pandas as pd \n",
        "from pydrive.auth import GoogleAuth\n",
        "from pydrive.drive import GoogleDrive\n",
        "from google.colab import auth   \n",
        "from google.colab import drive\n",
        "from oauth2client.client import GoogleCredentials\n",
        "import mne\n",
        "from sklearn.linear_model import LinearRegression\n",
        "from sklearn.linear_model import SGDRegressor\n",
        "from sklearn import metrics\n",
        "from sklearn.model_selection import train_test_split\n",
        "from sklearn.metrics import mean_squared_error, r2_score\n",
        "from sklearn.neural_network import MLPRegressor\n",
        "from sklearn.datasets import make_regression\n",
        "drive.mount('/content/drive')"
      ],
      "execution_count": null,
      "outputs": [
        {
          "output_type": "stream",
          "text": [
            "Go to this URL in a browser: https://accounts.google.com/o/oauth2/auth?client_id=947318989803-6bn6qk8qdgf4n4g3pfee6491hc0brc4i.apps.googleusercontent.com&redirect_uri=urn%3aietf%3awg%3aoauth%3a2.0%3aoob&scope=email%20https%3a%2f%2fwww.googleapis.com%2fauth%2fdocs.test%20https%3a%2f%2fwww.googleapis.com%2fauth%2fdrive%20https%3a%2f%2fwww.googleapis.com%2fauth%2fdrive.photos.readonly%20https%3a%2f%2fwww.googleapis.com%2fauth%2fpeopleapi.readonly&response_type=code\n",
            "\n",
            "Enter your authorization code:\n",
            "··········\n",
            "Mounted at /content/drive\n"
          ],
          "name": "stdout"
        }
      ]
    },
    {
      "cell_type": "code",
      "metadata": {
        "id": "OqoE1rzSHn2b",
        "colab_type": "code",
        "colab": {}
      },
      "source": [
        "def import_file(link):\n",
        "    auth.authenticate_user()\n",
        "    gauth = GoogleAuth()\n",
        "    gauth.credentials = GoogleCredentials.get_application_default()\n",
        "    drive = GoogleDrive(gauth)\n",
        "    fluff, id = link.split('=')\n",
        "    downloaded = drive.CreateFile({'id':id}) \n",
        "    downloaded.GetContentFile('Filename.csv')\n",
        "    data = pd.read_csv('Filename.csv', header = None).replace(-1,0).to_numpy()\n",
        "    return data"
      ],
      "execution_count": null,
      "outputs": []
    },
    {
      "cell_type": "code",
      "metadata": {
        "id": "ZZRV32uUHyWn",
        "colab_type": "code",
        "colab": {}
      },
      "source": [
        "data = np.empty((40,322560))\n",
        "label = np.empty((40,4))\n",
        "for i in range (1,32):\n",
        "    x = pd.read_csv('/content/drive/My Drive/BCI Emotion detection/DEAP/CSV_Data/S' + str(i) + '_data.csv', header = None).to_numpy()\n",
        "    data = np.concatenate((data, x), axis = 0)\n",
        "    y = pd.read_csv('/content/drive/My Drive/BCI Emotion detection/DEAP/CSV_Data/S' + str(i) + '_labels.csv', header = None).to_numpy()\n",
        "    label = np.concatenate((label, y), axis = 0)"
      ],
      "execution_count": null,
      "outputs": []
    },
    {
      "cell_type": "code",
      "metadata": {
        "id": "ydUVWIt-O1Fi",
        "colab_type": "code",
        "colab": {}
      },
      "source": [
        "ch_type = ['eeg' for i in range (1,33)]\n",
        "sampling_rate = 128\n",
        "info = mne.create_info(32, sampling_rate, ch_types=ch_type)"
      ],
      "execution_count": null,
      "outputs": []
    },
    {
      "cell_type": "code",
      "metadata": {
        "id": "2SE8c_FnPk0v",
        "colab_type": "code",
        "colab": {
          "base_uri": "https://localhost:8080/",
          "height": 34
        },
        "outputId": "e0d67780-a68c-4005-f2e0-7d42107e8fb3"
      },
      "source": [
        "y_valance = label[0:200,0]\n",
        "x = data[0:200]\n",
        "y_arousal = label[:,1]\n",
        "y_dominance = label[:,2]\n",
        "y_liking = label[:,3]\n",
        "y_valance = y_valance[np.argsort(y_valance)]\n",
        "print(y_valance.shape)"
      ],
      "execution_count": null,
      "outputs": [
        {
          "output_type": "stream",
          "text": [
            "(200,)\n"
          ],
          "name": "stdout"
        }
      ]
    },
    {
      "cell_type": "markdown",
      "metadata": {
        "id": "C0O_T9ldGVYT",
        "colab_type": "text"
      },
      "source": [
        ""
      ]
    },
    {
      "cell_type": "code",
      "metadata": {
        "id": "Un6ueQ_oTSpE",
        "colab_type": "code",
        "colab": {
          "base_uri": "https://localhost:8080/",
          "height": 34
        },
        "outputId": "790925b6-18ec-49f2-97fa-698220dfed83"
      },
      "source": [
        "x_new = x.reshape(x.shape[0],40,int(x.shape[1]/40))\n",
        "X_reshape = x_new.reshape(x_new.shape[1], -1)[0:32]\n",
        "print(X_reshape.shape)"
      ],
      "execution_count": null,
      "outputs": [
        {
          "output_type": "stream",
          "text": [
            "(32, 1612800)\n"
          ],
          "name": "stdout"
        }
      ]
    },
    {
      "cell_type": "code",
      "metadata": {
        "id": "H4KJPoWpTxeP",
        "colab_type": "code",
        "colab": {
          "base_uri": "https://localhost:8080/",
          "height": 68
        },
        "outputId": "7bb6694e-f5e4-44f4-80ce-be7445b7642f"
      },
      "source": [
        "raw_data = mne.io.RawArray(X_reshape, info)\n",
        "# evoke_data = mne.EvokedArray(X_reshape, info)"
      ],
      "execution_count": null,
      "outputs": [
        {
          "output_type": "stream",
          "text": [
            "Creating RawArray with float64 data, n_channels=32, n_times=1612800\n",
            "    Range : 0 ... 1612799 =      0.000 ... 12599.992 secs\n",
            "Ready.\n"
          ],
          "name": "stdout"
        }
      ]
    },
    {
      "cell_type": "code",
      "metadata": {
        "id": "1fpv2DpuUXqB",
        "colab_type": "code",
        "colab": {
          "base_uri": "https://localhost:8080/",
          "height": 701
        },
        "outputId": "35832dba-b1d2-417e-932f-306108965935"
      },
      "source": [
        "# data = mne.time_frequency.psd_welch(raw_data)\n",
        "# scale = dict(mag=1e-4) \n",
        "raw_data.plot_psd()"
      ],
      "execution_count": null,
      "outputs": [
        {
          "output_type": "stream",
          "text": [
            "Effective window size : 16.000 (s)\n"
          ],
          "name": "stdout"
        },
        {
          "output_type": "stream",
          "text": [
            "<ipython-input-14-7ff9cc6b112d>:3: UserWarning: Infinite value in PSD for channels 0, 1.\n",
            "These channels might be dead.\n",
            "  raw_data.plot_psd()\n",
            "<ipython-input-14-7ff9cc6b112d>:3: RuntimeWarning: Channel locations not available. Disabling spatial colors.\n",
            "  raw_data.plot_psd()\n"
          ],
          "name": "stderr"
        },
        {
          "output_type": "display_data",
          "data": {
            "image/png": "[encoded data removed]",
            "text/plain": [
              "<Figure size 432x288 with 1 Axes>"
            ]
          },
          "metadata": {
            "tags": [],
            "needs_background": "light"
          }
        },
        {
          "output_type": "execute_result",
          "data": {
            "image/png": "[encoded data removed]",
            "text/plain": [
              "<Figure size 432x288 with 1 Axes>"
            ]
          },
          "metadata": {
            "tags": []
          },
          "execution_count": 14
        }
      ]
    },
    {
      "cell_type": "code",
      "metadata": {
        "id": "U6wnjMnsbMeI",
        "colab_type": "code",
        "colab": {
          "base_uri": "https://localhost:8080/",
          "height": 34
        },
        "outputId": "ac79c515-17db-4475-8215-7a221a8e808c"
      },
      "source": [
        "hilb_picks = mne.pick_types(raw_data.info, meg=False, eeg=True)\n",
        "raw_hilb = raw_data.copy()\n",
        "raw_hilb.apply_hilbert(hilb_picks)\n",
        "# amplitude = raw_hilb[0][0]\n",
        "# print(amplitude.shape)"
      ],
      "execution_count": null,
      "outputs": [
        {
          "output_type": "stream",
          "text": [
            "(1, 1612800)\n"
          ],
          "name": "stdout"
        }
      ]
    },
    {
      "cell_type": "code",
      "metadata": {
        "id": "d130gKN0OqF8",
        "colab_type": "code",
        "colab": {
          "base_uri": "https://localhost:8080/",
          "height": 51
        },
        "outputId": "c99e60dd-ce21-4bd0-9e3b-8ab32a3dabe7"
      },
      "source": [
        "raw_amp = raw_hilb.copy()\n",
        "raw_amp.apply_function(np.abs, hilb_picks)\n",
        "# raw_phase = raw_hilb.copy()\n",
        "# raw_phase.apply_function(np.angle, hilb_picks)\n",
        "PSD = raw_amp[hilb_picks][0].real\n",
        "PSD_array = np.array(PSD)\n",
        "PSD_new = PSD_array.reshape(32,200,int(PSD_array.shape[1]/200))\n",
        "PSD_reshape = PSD_new.reshape(PSD_new.shape[1], -1)\n",
        "assert PSD_array.all() == PSD_reshape.all()\n",
        "print(PSD_array.shape)\n",
        "print(PSD_reshape.shape)"
      ],
      "execution_count": null,
      "outputs": [
        {
          "output_type": "stream",
          "text": [
            "(32, 1612800)\n",
            "(200, 258048)\n"
          ],
          "name": "stdout"
        }
      ]
    },
    {
      "cell_type": "code",
      "metadata": {
        "id": "w8SNEi6reDCe",
        "colab_type": "code",
        "colab": {}
      },
      "source": [
        "y_valance = y[:,0]\n",
        "y_arousal = y[:,1]\n",
        "y_dominance = y[:,2]\n",
        "y_liking = y[:,3]\n",
        "y_valance = y_valance[np.argsort(y_valance)]"
      ],
      "execution_count": null,
      "outputs": []
    },
    {
      "cell_type": "code",
      "metadata": {
        "id": "mT5I0rOLpcz4",
        "colab_type": "code",
        "colab": {
          "base_uri": "https://localhost:8080/",
          "height": 34
        },
        "outputId": "4355c9ff-3c2f-453b-bf3f-3dc78a938c25"
      },
      "source": [
        "# def time_split(x,y):\n",
        "data_3d = PSD_reshape.reshape(200,32,int(PSD_reshape.shape[1]/32))\n",
        "data = np.empty(np.split(data_3d,8,axis=2)[0].shape)\n",
        "for i in range (8):\n",
        "    data = np.append(data,np.split(data_3d,8,axis=2)[i], axis = 0)\n",
        "print(data.shape)"
      ],
      "execution_count": null,
      "outputs": [
        {
          "output_type": "stream",
          "text": [
            "(1800, 32, 1008)\n"
          ],
          "name": "stdout"
        }
      ]
    },
    {
      "cell_type": "code",
      "metadata": {
        "id": "NNs9DV7XgKKj",
        "colab_type": "code",
        "colab": {}
      },
      "source": [
        "def train_dev_test(x,y):\n",
        "    x_train, x_test, y_train, y_test = train_test_split(x, y, test_size = 0.1)\n",
        "    # x_train, x_dev, y_train, y_dev = train_test_split(x_t1, y_t1, test_size = 0.2)\n",
        "    params = {\n",
        "        'x_train' : x_train,\n",
        "        'y_train' : y_train,\n",
        "        'x_test' : x_test,\n",
        "        'y_test' : y_test\n",
        "    }\n",
        "    return params"
      ],
      "execution_count": null,
      "outputs": []
    },
    {
      "cell_type": "code",
      "metadata": {
        "id": "pCFuGRHjgOcq",
        "colab_type": "code",
        "colab": {}
      },
      "source": [
        "PSD_norm = (PSD_reshape - np.mean(PSD_reshape)) / np.std(PSD_reshape)\n",
        "params = train_dev_test(PSD_norm,y_valance)"
      ],
      "execution_count": null,
      "outputs": []
    },
    {
      "cell_type": "code",
      "metadata": {
        "id": "WR2rX7GagQbg",
        "colab_type": "code",
        "colab": {
          "base_uri": "https://localhost:8080/",
          "height": 323
        },
        "outputId": "bd7a08dd-f3be-449d-8e0f-5dc0b9cac323"
      },
      "source": [
        "# def linear_model_sgd(params, learning_rate, itteration):\n",
        "x_train = params['x_train']\n",
        "y_train = params['y_train']\n",
        "y_test = params['y_test']\n",
        "x_test = params['x_test']\n",
        "model = LinearRegression()\n",
        "model.fit(x_train, y_train)\n",
        "y_pred = model.predict(x_test)\n",
        "accuracy = model.score(x_test,y_test)\n",
        "print(y_pred)\n",
        "print(y_test)\n",
        "print('Mean squared error: %.2f'\n",
        "      % mean_squared_error(y_test, y_pred))\n",
        "print('Coefficient of determination: %.2f'\n",
        "      % r2_score(y_test, y_pred))"
      ],
      "execution_count": null,
      "outputs": [
        {
          "output_type": "stream",
          "text": [
            "[ 2.10041128e+238 -7.22099884e+238  1.41087564e+238 -2.36786489e+239\n",
            "  1.44142292e+238  5.66654022e+237 -9.00897458e+239 -3.48585360e+238\n",
            "  2.73156537e+237 -3.63730501e+238  2.24679212e+238 -1.17812427e+238\n",
            "  4.38905425e+224  6.89639319e+240 -4.26573135e+237 -1.34704665e+238\n",
            "  2.40702003e+239  4.38905425e+224  4.83786084e+239  3.76771953e+239]\n",
            "[9.00000000e+000 4.92000000e+000 6.05000000e+000 4.44000000e+000\n",
            " 7.08000000e+000 8.58000000e+000 9.00000000e+000 7.17000000e+000\n",
            " 6.26000000e+000 6.36000000e+000 5.04000000e+000 7.00000000e+000\n",
            " 6.92734778e-310 4.04000000e+000 8.01000000e+000 6.79000000e+000\n",
            " 1.92000000e+000 6.92739144e-310 4.99000000e+000 5.97000000e+000]\n",
            "Mean squared error: inf\n",
            "Coefficient of determination: -inf\n"
          ],
          "name": "stdout"
        },
        {
          "output_type": "stream",
          "text": [
            "/usr/local/lib/python3.6/dist-packages/sklearn/metrics/_regression.py:591: RuntimeWarning: overflow encountered in square\n",
            "  numerator = (weight * (y_true - y_pred) ** 2).sum(axis=0,\n",
            "/usr/local/lib/python3.6/dist-packages/sklearn/metrics/_regression.py:254: RuntimeWarning: overflow encountered in square\n",
            "  output_errors = np.average((y_true - y_pred) ** 2, axis=0,\n",
            "/usr/local/lib/python3.6/dist-packages/sklearn/metrics/_regression.py:591: RuntimeWarning: overflow encountered in square\n",
            "  numerator = (weight * (y_true - y_pred) ** 2).sum(axis=0,\n"
          ],
          "name": "stderr"
        }
      ]
    },
    {
      "cell_type": "code",
      "metadata": {
        "id": "4DEwIro9gTpl",
        "colab_type": "code",
        "colab": {
          "base_uri": "https://localhost:8080/",
          "height": 238
        },
        "outputId": "9c678e1a-64c8-4d9d-eee5-08fbeafbcae1"
      },
      "source": [
        "print(y_pred)\n",
        "print(y_valance)"
      ],
      "execution_count": null,
      "outputs": [
        {
          "output_type": "stream",
          "text": [
            "[ 6.93094965e+02 -1.40523927e+05 -9.00270245e+04 -7.30435102e+05\n",
            "  5.45053991e+04  6.48902245e+03 -2.44244314e+05 -2.53800869e+05\n",
            " -3.30370109e+05  4.88701287e+04  2.61042116e+04 -4.30161433e+05\n",
            " -1.77067106e+05 -4.62722616e+05  4.20166046e+04  1.06553339e+04\n",
            " -2.44970887e+05 -4.48474139e+05 -8.60710055e+04  1.64524418e+05\n",
            "  3.30353833e+03 -1.69445987e+05 -2.67802466e+05 -1.91709465e+05\n",
            "  7.35141682e+04  5.55344341e+02 -2.17273932e+05 -3.22130566e+05\n",
            " -2.27210975e+04  2.42119252e+05  1.03408333e+04 -2.28434020e+05\n",
            " -1.38327814e+06 -6.15219673e+04  8.65041205e+04  6.66608787e+03\n",
            " -2.71160496e+05 -2.90676841e+05 -2.72233553e+05  8.32223959e+04]\n",
            "[1.36 1.95 1.99 2.06 2.08 2.28 2.28 2.31 2.46 2.71 2.9  2.99 3.03 3.17\n",
            " 3.24 3.33 3.81 3.88 4.04 4.18 4.94 5.1  6.81 6.96 7.04 7.09 7.17 7.23\n",
            " 7.28 7.32 7.35 7.44 7.71 8.1  8.15 8.26 8.27 8.58 8.86 9.  ]\n"
          ],
          "name": "stdout"
        }
      ]
    },
    {
      "cell_type": "code",
      "metadata": {
        "id": "yJ7-KoHqgXTt",
        "colab_type": "code",
        "colab": {}
      },
      "source": [
        ""
      ],
      "execution_count": null,
      "outputs": []
    }
  ]
}